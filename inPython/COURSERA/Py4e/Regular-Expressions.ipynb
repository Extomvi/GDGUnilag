{
 "cells": [
  {
   "cell_type": "markdown",
   "metadata": {},
   "source": [
    "# USING REGULAR EXPRESSIONS"
   ]
  },
  {
   "cell_type": "code",
   "execution_count": 1,
   "metadata": {},
   "outputs": [],
   "source": [
    "import re"
   ]
  },
  {
   "cell_type": "markdown",
   "metadata": {},
   "source": [
    "# GREEDY MATCHING"
   ]
  },
  {
   "cell_type": "code",
   "execution_count": 6,
   "metadata": {},
   "outputs": [
    {
     "name": "stdout",
     "output_type": "stream",
     "text": [
      "['From: Using the :']\n"
     ]
    }
   ],
   "source": [
    "x = 'From: Using the : character'\n",
    "y = re.findall('^F.+:', x)\n",
    "print(y)"
   ]
  },
  {
   "cell_type": "markdown",
   "metadata": {},
   "source": [
    "# NON-GREEDY MATCHING"
   ]
  },
  {
   "cell_type": "code",
   "execution_count": 7,
   "metadata": {},
   "outputs": [
    {
     "name": "stdout",
     "output_type": "stream",
     "text": [
      "['From:']\n"
     ]
    }
   ],
   "source": [
    "x = 'From: Using the : character'\n",
    "y = re.findall('^F.+?:', x)\n",
    "print(y)"
   ]
  },
  {
   "cell_type": "markdown",
   "metadata": {},
   "source": [
    "# FINE-TUNING STRING MANIPULATION"
   ]
  },
  {
   "cell_type": "code",
   "execution_count": 8,
   "metadata": {},
   "outputs": [
    {
     "name": "stdout",
     "output_type": "stream",
     "text": [
      "['exceltadedokun@gmail.com']\n"
     ]
    }
   ],
   "source": [
    "x = 'From exceltadedokun@gmail.com Wed Mar 11 10:33:45 2020'\n",
    "y = re.findall('\\S+@\\S+', x)\n",
    "print(y)"
   ]
  },
  {
   "cell_type": "code",
   "execution_count": 9,
   "metadata": {},
   "outputs": [
    {
     "name": "stdout",
     "output_type": "stream",
     "text": [
      "['exceltadedokun@gmail.com']\n"
     ]
    }
   ],
   "source": [
    "x = 'From exceltadedokun@gmail.com Wed Mar 11 10:33:45 2020'\n",
    "y = re.findall('^From (\\S+@\\S+)', x)\n",
    "print(y)"
   ]
  },
  {
   "cell_type": "markdown",
   "metadata": {},
   "source": [
    "# DOUBLE SPLIT PATTERN"
   ]
  },
  {
   "cell_type": "code",
   "execution_count": 17,
   "metadata": {},
   "outputs": [
    {
     "name": "stdout",
     "output_type": "stream",
     "text": [
      "exceltadedokun\n",
      "gmail.com\n"
     ]
    }
   ],
   "source": [
    "x = 'From exceltadedokun@gmail.com Wed Mar 11 10:33:45 2020'\n",
    "word = x.split()\n",
    "email = word[1]\n",
    "pieces = email.split('@')\n",
    "print(pieces[0])\n",
    "print(pieces[1])"
   ]
  },
  {
   "cell_type": "markdown",
   "metadata": {},
   "source": [
    "REGEX VERSION"
   ]
  },
  {
   "cell_type": "code",
   "execution_count": 18,
   "metadata": {},
   "outputs": [
    {
     "name": "stdout",
     "output_type": "stream",
     "text": [
      "['gmail.com']\n"
     ]
    }
   ],
   "source": [
    "y = re.findall('@([^ ]*)', x)\n",
    "print(y)"
   ]
  },
  {
   "cell_type": "markdown",
   "metadata": {},
   "source": [
    "# THE ESCAPE CHARACTER"
   ]
  },
  {
   "cell_type": "code",
   "execution_count": 21,
   "metadata": {},
   "outputs": [
    {
     "name": "stdout",
     "output_type": "stream",
     "text": [
      "['$10.00']\n"
     ]
    }
   ],
   "source": [
    "word = 'We just received $10.00 for cookies.'\n",
    "y = re.findall('\\$[0-9.]+', word)\n",
    "print(y)"
   ]
  },
  {
   "cell_type": "markdown",
   "metadata": {},
   "source": [
    "# CHEAT-SHEET"
   ]
  },
  {
   "cell_type": "raw",
   "metadata": {},
   "source": [
    "^ - Matches the beginning of a line\n",
    "$ - Matches the end of a line\n",
    ". - Matches the any character\n",
    "\\s - Matches a whitespace\n",
    "\\S - Matches any non-whitespace character\n",
    "* - Repeats a character zero or more times\n",
    "*? - Repeats a character zero or more times(Non-greedy)\n",
    "+ - Repeats a character one or more times\n",
    "+? - Repeats a character one or more times(Non-Greedy)\n",
    "[aeiou] - Matches a single character in a listed set\n",
    "[^XYZ] - Matches a single character not in a listed set\n",
    "[a-z 0-9] - The set of characters can include a range\n",
    "( - Indicates where string extraction is to start\n",
    ") - Indicates where string extraction is to end"
   ]
  },
  {
   "cell_type": "code",
   "execution_count": null,
   "metadata": {},
   "outputs": [],
   "source": []
  }
 ],
 "metadata": {
  "kernelspec": {
   "display_name": "Python 3",
   "language": "python",
   "name": "python3"
  },
  "language_info": {
   "codemirror_mode": {
    "name": "ipython",
    "version": 3
   },
   "file_extension": ".py",
   "mimetype": "text/x-python",
   "name": "python",
   "nbconvert_exporter": "python",
   "pygments_lexer": "ipython3",
   "version": "3.6.8"
  }
 },
 "nbformat": 4,
 "nbformat_minor": 2
}
