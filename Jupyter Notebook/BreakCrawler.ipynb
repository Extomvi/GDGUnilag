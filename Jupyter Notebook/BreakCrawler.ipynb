{
 "cells": [
  {
   "cell_type": "code",
   "execution_count": 1,
   "metadata": {},
   "outputs": [],
   "source": [
    "import time\n",
    "import webbrowser"
   ]
  },
  {
   "cell_type": "code",
   "execution_count": 2,
   "metadata": {},
   "outputs": [],
   "source": [
    "totalTime = 3\n",
    "breakTime = 0"
   ]
  },
  {
   "cell_type": "code",
   "execution_count": 3,
   "metadata": {},
   "outputs": [
    {
     "name": "stdout",
     "output_type": "stream",
     "text": [
      "This program initiated at: Tue Nov 12 00:10:12 2019\n",
      "Tue Nov 12 00:10:12 2019\n",
      "Tue Nov 12 00:15:12 2019\n",
      "Tue Nov 12 00:20:12 2019\n"
     ]
    }
   ],
   "source": [
    "print('This program initiated at:', time.ctime())\n",
    "while (breakTime<totalTime):\n",
    "    print(time.ctime())\n",
    "    time.sleep(300)\n",
    "    webbrowser.open('https://www.youtube.com/watch?v=pJsZXZWaZTg')\n",
    "    breakTime += 1\n",
    "    "
   ]
  },
  {
   "cell_type": "code",
   "execution_count": null,
   "metadata": {},
   "outputs": [],
   "source": []
  },
  {
   "cell_type": "code",
   "execution_count": null,
   "metadata": {},
   "outputs": [],
   "source": []
  }
 ],
 "metadata": {
  "kernelspec": {
   "display_name": "Python 3",
   "language": "python",
   "name": "python3"
  },
  "language_info": {
   "codemirror_mode": {
    "name": "ipython",
    "version": 3
   },
   "file_extension": ".py",
   "mimetype": "text/x-python",
   "name": "python",
   "nbconvert_exporter": "python",
   "pygments_lexer": "ipython3",
   "version": "3.6.8"
  }
 },
 "nbformat": 4,
 "nbformat_minor": 2
}
