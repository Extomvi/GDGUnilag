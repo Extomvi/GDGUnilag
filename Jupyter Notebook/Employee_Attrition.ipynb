{
  "nbformat": 4,
  "nbformat_minor": 0,
  "metadata": {
    "colab": {
      "name": "Employee_Attrition.ipynb",
      "provenance": [],
      "collapsed_sections": []
    },
    "kernelspec": {
      "name": "python3",
      "display_name": "Python 3"
    }
  },
  "cells": [
    {
      "cell_type": "code",
      "metadata": {
        "id": "DYHBEpOIiKhw"
      },
      "source": [
        "# Import libraries\n",
        "import pandas as pd\n",
        "import numpy as np\n",
        "import matplotlib.pyplot as plt\n",
        "import seaborn as sns"
      ],
      "execution_count": null,
      "outputs": []
    },
    {
      "cell_type": "code",
      "metadata": {
        "id": "QlYk2MAbiR6X",
        "colab": {
          "resources": {
            "http://localhost:8080/nbextensions/google.colab/files.js": {
              "data": "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",
              "ok": true,
              "headers": [
                [
                  "content-type",
                  "application/javascript"
                ]
              ],
              "status": 200,
              "status_text": ""
            }
          },
          "base_uri": "https://localhost:8080/",
          "height": 37
        },
        "outputId": "dd9a88a0-e34f-4e4a-90b7-d92750c2e8fb"
      },
      "source": [
        "# Import the data into google colab directory so that we can work on it\n",
        "from google.colab import files\n",
        "uploaded = files.upload()"
      ],
      "execution_count": null,
      "outputs": [
        {
          "output_type": "display_data",
          "data": {
            "text/html": [
              "\n",
              "     <input type=\"file\" id=\"files-994eae62-1821-44b7-beff-a3359a9886c1\" name=\"files[]\" multiple disabled\n",
              "        style=\"border:none\" />\n",
              "     <output id=\"result-994eae62-1821-44b7-beff-a3359a9886c1\">\n",
              "      Upload widget is only available when the cell has been executed in the\n",
              "      current browser session. Please rerun this cell to enable.\n",
              "      </output>\n",
              "      <script src=\"/nbextensions/google.colab/files.js\"></script> "
            ],
            "text/plain": [
              "<IPython.core.display.HTML object>"
            ]
          },
          "metadata": {
            "tags": []
          }
        }
      ]
    },
    {
      "cell_type": "code",
      "metadata": {
        "id": "A5Ic2HJLoid6"
      },
      "source": [
        "# Read the attrition data set\n",
        "attr = pd.read_excel(\"attrition.xlsx\", sheet_name=\"Existing employees\", encoding='utf-8')\n",
        "attr2 = pd.read_excel(\"attrition.xlsx\", sheet_name =\"Employees who have left\", encoding='utf-8')\n"
      ],
      "execution_count": null,
      "outputs": []
    },
    {
      "cell_type": "code",
      "metadata": {
        "id": "n4uXFVrirdBo"
      },
      "source": [
        "# Head view of the data set: existing employees\n",
        "attr.head()"
      ],
      "execution_count": null,
      "outputs": []
    },
    {
      "cell_type": "code",
      "metadata": {
        "id": "fd3xT8esSg-I"
      },
      "source": [
        "# Head view of the employees that have left\n",
        "attr2.head()"
      ],
      "execution_count": null,
      "outputs": []
    },
    {
      "cell_type": "code",
      "metadata": {
        "id": "2o4c2zZk9XMI"
      },
      "source": [
        "# Tail view of the data set: existing employees\n",
        "attr.tail()"
      ],
      "execution_count": null,
      "outputs": []
    },
    {
      "cell_type": "code",
      "metadata": {
        "id": "1aU60D3CTiOX"
      },
      "source": [
        "# Tail view of the data set: employees who have left\n",
        "attr2.tail()"
      ],
      "execution_count": null,
      "outputs": []
    },
    {
      "cell_type": "code",
      "metadata": {
        "id": "J94HXTER9gMS"
      },
      "source": [
        "# Let's check for the data type: existing employees\n",
        "attr.dtypes"
      ],
      "execution_count": null,
      "outputs": []
    },
    {
      "cell_type": "code",
      "metadata": {
        "id": "fFxAK1aBT5DC"
      },
      "source": [
        "# Let's check for the data type: employees who have left\n",
        "attr2.dtypes"
      ],
      "execution_count": null,
      "outputs": []
    },
    {
      "cell_type": "code",
      "metadata": {
        "id": "RVcdz97Orgb_"
      },
      "source": [
        "# Information about the dataset: existing employees\n",
        "attr.info()\n"
      ],
      "execution_count": null,
      "outputs": []
    },
    {
      "cell_type": "code",
      "metadata": {
        "id": "KPkyP2bxUOFZ"
      },
      "source": [
        "# Information about the dataset: employees who have left\n",
        "attr2.info()"
      ],
      "execution_count": null,
      "outputs": []
    },
    {
      "cell_type": "code",
      "metadata": {
        "id": "uZ5JBMFC0bie"
      },
      "source": [
        "# Getting some useful information from the data set: existing employees\n",
        "attr.describe()"
      ],
      "execution_count": null,
      "outputs": []
    },
    {
      "cell_type": "code",
      "metadata": {
        "id": "EJKYzlG2UqLh"
      },
      "source": [
        "# Getting some useful information from the data set: employees who have left\n",
        "attr2.describe()"
      ],
      "execution_count": null,
      "outputs": []
    },
    {
      "cell_type": "code",
      "metadata": {
        "id": "q4OGgvnm98W1"
      },
      "source": [
        "# Let's drop the columns that may not be useful for our model (existing employees)\n",
        "attr = attr.drop(['Emp ID'], axis=1)\n",
        "attr.head()"
      ],
      "execution_count": null,
      "outputs": []
    },
    {
      "cell_type": "code",
      "metadata": {
        "id": "xI1X5PztW_JO"
      },
      "source": [
        "# Let's drop the columns that may not be useful for our model (employees who have left)\n",
        "attr2 = attr2.drop(['Emp ID'], axis=1)\n",
        "attr2.head()"
      ],
      "execution_count": null,
      "outputs": []
    },
    {
      "cell_type": "code",
      "metadata": {
        "id": "NLVrLSiS0jSY"
      },
      "source": [
        "# Let's perform exploratory data analysis on this data set (existing employees)\n",
        "# Total number of rows and columns in the data\n",
        "attr.shape"
      ],
      "execution_count": null,
      "outputs": []
    },
    {
      "cell_type": "code",
      "metadata": {
        "id": "1h72JhwVaKd_"
      },
      "source": [
        "# Let's perform exploratory data analysis on this data set (employees that have left)\n",
        "# Total number of rows and columns in the data\n",
        "attr2.shape"
      ],
      "execution_count": null,
      "outputs": []
    },
    {
      "cell_type": "code",
      "metadata": {
        "id": "TqJMUFEh_Lsz"
      },
      "source": [
        "# Let's check for duplicate data\n",
        "duplicate_rows_of_attr = attr[attr.duplicated()]\n",
        "print('Total number of duplicated row of the attrition data set is: ', duplicate_rows_of_attr.shape)"
      ],
      "execution_count": null,
      "outputs": []
    },
    {
      "cell_type": "code",
      "metadata": {
        "id": "_ZTaVcFCa_C9"
      },
      "source": [
        "# Let's check for duplicate data\n",
        "duplicate_rows_of_attr2 = attr2[attr2.duplicated()]\n",
        "print('Total number of duplicated row of the attrition data set is: ', duplicate_rows_of_attr2.shape)"
      ],
      "execution_count": null,
      "outputs": []
    },
    {
      "cell_type": "code",
      "metadata": {
        "id": "ZY17l1odAjw_"
      },
      "source": [
        "# Count the number of rows before removing duplicated rows\n",
        "attr.count()"
      ],
      "execution_count": null,
      "outputs": []
    },
    {
      "cell_type": "code",
      "metadata": {
        "id": "ccgFbz5nbSqC"
      },
      "source": [
        "# Count the number of rows before removing duplicated rows (employees who have left)\n",
        "attr2.count()"
      ],
      "execution_count": null,
      "outputs": []
    },
    {
      "cell_type": "code",
      "metadata": {
        "id": "lUTwlyt6C3dQ"
      },
      "source": [
        "# Now we drop the duplicated rows of the data set (existing employees)\n",
        "attr = attr.drop_duplicates()\n",
        "# Head view of the data set\n",
        "attr.head()"
      ],
      "execution_count": null,
      "outputs": []
    },
    {
      "cell_type": "code",
      "metadata": {
        "id": "LAqnClxVblKA"
      },
      "source": [
        "# Now we drop the duplicated rows of the data set (employees who have left)\n",
        "attr2 = attr2.drop_duplicates()\n",
        "# Head view of the data set\n",
        "attr2.head()"
      ],
      "execution_count": null,
      "outputs": []
    },
    {
      "cell_type": "code",
      "metadata": {
        "id": "rcrA7S2ZDmNH"
      },
      "source": [
        "# Let's count again\n",
        "attr.count()"
      ],
      "execution_count": null,
      "outputs": []
    },
    {
      "cell_type": "code",
      "metadata": {
        "id": "NGjiHjdFb1zH"
      },
      "source": [
        "# Let's count again\n",
        "attr2.count()\n"
      ],
      "execution_count": null,
      "outputs": []
    },
    {
      "cell_type": "code",
      "metadata": {
        "id": "QnbyFKkWDs7t"
      },
      "source": [
        "# Let's check out for null values(existing employees)\n",
        "print(attr.isnull().sum())\n",
        "# Great!! No Null value in our data set"
      ],
      "execution_count": null,
      "outputs": []
    },
    {
      "cell_type": "code",
      "metadata": {
        "id": "ecp2jeW2cDVL"
      },
      "source": [
        "# Let's check out for null values (employees who have left)\n",
        "print(attr2.isnull().sum())\n",
        "# Great!! No Null value in our data set"
      ],
      "execution_count": null,
      "outputs": []
    },
    {
      "cell_type": "code",
      "metadata": {
        "id": "3AJDF8ZbELqa"
      },
      "source": [
        "# Let's check out for outliers, Outliers will affect the accracy of our model if not dealt with properly\n",
        "sns.boxplot(x= attr['satisfaction_level'])\n",
        "plt.show()"
      ],
      "execution_count": null,
      "outputs": []
    },
    {
      "cell_type": "code",
      "metadata": {
        "id": "s9VRY3nCGa5w"
      },
      "source": [
        "sns.boxplot(x= attr['number_project'])\n",
        "plt.show()"
      ],
      "execution_count": null,
      "outputs": []
    },
    {
      "cell_type": "code",
      "metadata": {
        "id": "cjr-uVB1Gxyv"
      },
      "source": [
        "sns.boxplot(x= attr['promotion_last_5years'])\n",
        "plt.show()"
      ],
      "execution_count": null,
      "outputs": []
    },
    {
      "cell_type": "code",
      "metadata": {
        "id": "wDXbkefeHEnz"
      },
      "source": [
        "sns.boxplot(x= attr['average_montly_hours'])\n",
        "plt.show()"
      ],
      "execution_count": null,
      "outputs": []
    },
    {
      "cell_type": "code",
      "metadata": {
        "id": "L3OyhPvUaAlQ"
      },
      "source": [
        "sns.boxplot(x= attr['time_spend_company'])\n",
        "plt.show()"
      ],
      "execution_count": null,
      "outputs": []
    },
    {
      "cell_type": "code",
      "metadata": {
        "id": "RthPEL9eap-U"
      },
      "source": [
        "sns.boxplot(x= attr['Work_accident'])\n",
        "plt.show()"
      ],
      "execution_count": null,
      "outputs": []
    },
    {
      "cell_type": "code",
      "metadata": {
        "id": "LcYEEWMza8bT"
      },
      "source": [
        "sns.boxplot(x= attr['last_evaluation'])\n",
        "plt.show()"
      ],
      "execution_count": null,
      "outputs": []
    },
    {
      "cell_type": "code",
      "metadata": {
        "id": "TqnjxlKsbQBv"
      },
      "source": [
        "# Dealing with outliers using IQR\n",
        "Q1 = attr.quantile(0.25)\n",
        "Q3 = attr.quantile(0.75)\n",
        "IQR = Q3 - Q1\n",
        "print(IQR)"
      ],
      "execution_count": null,
      "outputs": []
    },
    {
      "cell_type": "code",
      "metadata": {
        "id": "WII4M3F7cefq"
      },
      "source": [
        "# Still dealing with Outliers\n",
        "attr = attr[~((attr < (Q1-1.5 * IQR)) |(attr > (Q3 + 1.5 * IQR))).any(axis=1)]\n",
        "attr.shape"
      ],
      "execution_count": null,
      "outputs": []
    },
    {
      "cell_type": "code",
      "metadata": {
        "id": "aamCXBdac6Uj"
      },
      "source": [
        "#Let's visualize some of out features in pairs\n",
        "sns.pairplot(attr[[ 'last_evaluation', 'number_project',  'average_montly_hours', 'time_spend_company', 'Work_accident', 'promotion_last_5years', 'satisfaction_level' ]])\n",
        "plt.show()"
      ],
      "execution_count": null,
      "outputs": []
    },
    {
      "cell_type": "code",
      "metadata": {
        "id": "d1AYs32H8IVF"
      },
      "source": [
        "#Let's make some pie chart of the dataset\n",
        "f,ax=plt.subplots(1,2,figsize=(16,7))\n",
        "attr.loc[attr['promotion_last_5years']==1, 'satisfaction_level'].value_counts().plot.pie(explode=None ,autopct='%1.1f%%',ax=ax[0],shadow=True)\n",
        "attr.loc[attr['time_spend_company']==0, 'satisfaction_level'].value_counts().plot.pie(explode=None ,autopct='%1.1f%%',ax=ax[1],shadow=True)\n",
        "ax[0].set_title('')\n",
        "ax[1].set_title('')\n",
        "plt.show()"
      ],
      "execution_count": null,
      "outputs": []
    },
    {
      "cell_type": "code",
      "metadata": {
        "id": "nMi0s7v-HLYd"
      },
      "source": [
        "attr['satisfaction_level'].hist();"
      ],
      "execution_count": null,
      "outputs": []
    },
    {
      "cell_type": "code",
      "metadata": {
        "id": "FyV92ORO2Lub"
      },
      "source": [
        "attr['average_montly_hours'].hist()"
      ],
      "execution_count": null,
      "outputs": []
    },
    {
      "cell_type": "code",
      "metadata": {
        "id": "kU8g-CnX3mAZ"
      },
      "source": [
        "attr['last_evaluation'].hist()"
      ],
      "execution_count": null,
      "outputs": []
    },
    {
      "cell_type": "code",
      "metadata": {
        "id": "grKVO6ZL3sRg"
      },
      "source": [
        "attr['time_spend_company'].hist();"
      ],
      "execution_count": null,
      "outputs": []
    },
    {
      "cell_type": "code",
      "metadata": {
        "id": "qddjTwKN3wo8"
      },
      "source": [
        "attr['promotion_last_5years'].hist();"
      ],
      "execution_count": null,
      "outputs": []
    },
    {
      "cell_type": "code",
      "metadata": {
        "id": "rBb8z9fx4NN0"
      },
      "source": [
        "attr['Work_accident'].hist();"
      ],
      "execution_count": null,
      "outputs": []
    },
    {
      "cell_type": "code",
      "metadata": {
        "id": "Q5D9-BIe4cFh"
      },
      "source": [
        "attr.boxplot(column = 'satisfaction_level', by = 'last_evaluation');"
      ],
      "execution_count": null,
      "outputs": []
    },
    {
      "cell_type": "code",
      "metadata": {
        "id": "6Birl2lm6VJ6"
      },
      "source": [
        "attr.boxplot(column = 'satisfaction_level', by = 'average_montly_hours');"
      ],
      "execution_count": null,
      "outputs": []
    },
    {
      "cell_type": "code",
      "metadata": {
        "id": "7YREYOuz9Lfp"
      },
      "source": [
        "attr.boxplot(column = 'satisfaction_level', by = 'Work_accident');"
      ],
      "execution_count": null,
      "outputs": []
    },
    {
      "cell_type": "code",
      "metadata": {
        "id": "Yoa10m479gI5"
      },
      "source": [
        "attr.boxplot(column = 'satisfaction_level', by = 'promotion_last_5years');"
      ],
      "execution_count": null,
      "outputs": []
    },
    {
      "cell_type": "code",
      "metadata": {
        "id": "UGT2FTR39z0x"
      },
      "source": [
        "attr.boxplot(column = 'satisfaction_level', by = 'number_project');"
      ],
      "execution_count": null,
      "outputs": []
    },
    {
      "cell_type": "code",
      "metadata": {
        "id": "oAaWVmX29-fa"
      },
      "source": [
        "attr.boxplot(column = 'satisfaction_level', by = 'time_spend_company');"
      ],
      "execution_count": null,
      "outputs": []
    },
    {
      "cell_type": "code",
      "metadata": {
        "id": "u05etOz1-QM3"
      },
      "source": [
        ""
      ],
      "execution_count": null,
      "outputs": []
    },
    {
      "cell_type": "code",
      "metadata": {
        "id": "eTQyudG2_bpg"
      },
      "source": [
        "# Finding the relations between the variables.\n",
        "plt.figure(figsize=(20,10))\n",
        "corr = attr.corr()\n",
        "sns.heatmap(corr,cmap=\"BrBG\",annot=True);\n",
        "corr"
      ],
      "execution_count": null,
      "outputs": []
    },
    {
      "cell_type": "markdown",
      "metadata": {
        "id": "1E5gbRVRCMJe"
      },
      "source": [
        "Exploratory Data Analysis on employees who have left\n"
      ]
    },
    {
      "cell_type": "code",
      "metadata": {
        "id": "_UjOHsT7A2zM"
      },
      "source": [
        "# Finding the relations between the variables.\n",
        "plt.figure(figsize=(20,10))\n",
        "corr2 = attr2.corr()\n",
        "sns.heatmap(corr,cmap=\"BrBG\",annot=True);\n",
        "corr2"
      ],
      "execution_count": null,
      "outputs": []
    },
    {
      "cell_type": "code",
      "metadata": {
        "id": "DMVt2sT2CtzO"
      },
      "source": [
        "attr2.boxplot(column = 'satisfaction_level', by = 'time_spend_company');"
      ],
      "execution_count": null,
      "outputs": []
    },
    {
      "cell_type": "code",
      "metadata": {
        "id": "lycYD0MoC_xP"
      },
      "source": [
        "# Let's check out for outliers, Outliers will affect the accracy of our model if not dealt with properly\n",
        "sns.boxplot(y= attr2['satisfaction_level'])\n",
        "plt.show()"
      ],
      "execution_count": null,
      "outputs": []
    },
    {
      "cell_type": "code",
      "metadata": {
        "id": "sYDh5zBUDOce"
      },
      "source": [
        "sns.boxplot(y= attr2['last_evaluation'])\n",
        "plt.show()"
      ],
      "execution_count": null,
      "outputs": []
    },
    {
      "cell_type": "code",
      "metadata": {
        "id": "RUZIuoNQDed9"
      },
      "source": [
        "sns.boxplot(y= attr2['promotion_last_5years'])\n",
        "plt.show()"
      ],
      "execution_count": null,
      "outputs": []
    },
    {
      "cell_type": "code",
      "metadata": {
        "id": "I8SVihD2Dp31"
      },
      "source": [
        "sns.boxplot(y= attr2['time_spend_company'])\n",
        "plt.show()"
      ],
      "execution_count": null,
      "outputs": []
    },
    {
      "cell_type": "code",
      "metadata": {
        "id": "8gFkjeBSDxk_"
      },
      "source": [
        "sns.boxplot(y= attr2['average_montly_hours'])\n",
        "plt.show()"
      ],
      "execution_count": null,
      "outputs": []
    },
    {
      "cell_type": "code",
      "metadata": {
        "id": "cFXotnA5D7M9"
      },
      "source": [
        "sns.boxplot(y= attr2['Work_accident'])\n",
        "plt.show()"
      ],
      "execution_count": null,
      "outputs": []
    },
    {
      "cell_type": "code",
      "metadata": {
        "id": "-Mg7BnJqEEla"
      },
      "source": [
        "attr2.describe()"
      ],
      "execution_count": null,
      "outputs": []
    },
    {
      "cell_type": "code",
      "metadata": {
        "id": "ALTC51-bENaA"
      },
      "source": [
        "sns.boxplot(y= attr2['number_project'])\n",
        "plt.show()"
      ],
      "execution_count": null,
      "outputs": []
    },
    {
      "cell_type": "code",
      "metadata": {
        "id": "XNIsPUCxET1a"
      },
      "source": [
        "# Dealing with outliers using IQR\n",
        "Q2 = attr.quantile(0.25)\n",
        "Q4 = attr.quantile(0.75)\n",
        "IQRs = Q4 - Q2\n",
        "print(IQRs)"
      ],
      "execution_count": null,
      "outputs": []
    },
    {
      "cell_type": "code",
      "metadata": {
        "id": "WfCUX1meEu8s"
      },
      "source": [
        "# Still dealing with Outliers\n",
        "attr2 = attr2[~((attr2 < (Q2-1.5 * IQRs)) |(attr2 > (Q4 + 1.5 * IQRs))).any(axis=1)]\n",
        "attr2.shape"
      ],
      "execution_count": null,
      "outputs": []
    },
    {
      "cell_type": "code",
      "metadata": {
        "id": "EVuiymmBFpf1"
      },
      "source": [
        "#Let's visualize some of out features in pairs\n",
        "sns.pairplot(attr2[[ 'last_evaluation', 'number_project',  'average_montly_hours', 'time_spend_company', 'Work_accident', 'promotion_last_5years', 'satisfaction_level' ]])\n",
        "plt.show()"
      ],
      "execution_count": null,
      "outputs": []
    },
    {
      "cell_type": "code",
      "metadata": {
        "id": "3h9tg-WLFyqX"
      },
      "source": [
        "# Let's merge our data together so that we can build our classification algorithm on it\n",
        "classification_data = attr.append(attr2)\n",
        "X = classification_data.iloc[:,:-1].values\n",
        "y = classification_data.iloc[:,-1].values"
      ],
      "execution_count": null,
      "outputs": []
    },
    {
      "cell_type": "code",
      "metadata": {
        "id": "24b3SF3NRuWc"
      },
      "source": [
        ""
      ],
      "execution_count": null,
      "outputs": []
    },
    {
      "cell_type": "code",
      "metadata": {
        "id": "wmK7tu1RKUS4"
      },
      "source": [
        "classification_data.head()"
      ],
      "execution_count": null,
      "outputs": []
    },
    {
      "cell_type": "code",
      "metadata": {
        "id": "bMWj42vEKeNq"
      },
      "source": [
        "classification_data.drop(['dept', 'salary', 'Emp ID'], axis=1)"
      ],
      "execution_count": null,
      "outputs": []
    },
    {
      "cell_type": "code",
      "metadata": {
        "id": "JABUmG7xNMzr"
      },
      "source": [
        ""
      ],
      "execution_count": null,
      "outputs": []
    },
    {
      "cell_type": "code",
      "metadata": {
        "id": "iRG7rEcaHZe6"
      },
      "source": [
        "from sklearn.metrics import confusion_matrix, accuracy_score\n",
        "from sklearn.metrics import mean_squared_error\n",
        "from sklearn.metrics import mean_absolute_error\n",
        "from sklearn.metrics import r2_score"
      ],
      "execution_count": null,
      "outputs": []
    },
    {
      "cell_type": "code",
      "metadata": {
        "id": "d6w-ppbqIJ7g"
      },
      "source": [
        "from sklearn.model_selection import train_test_split\n",
        "XTrain, XTest, yTrain, yTest = train_test_split(X, y, test_size=0.2 , random_state=5)"
      ],
      "execution_count": null,
      "outputs": []
    },
    {
      "cell_type": "code",
      "metadata": {
        "id": "buth8s-KJIzg"
      },
      "source": [
        "from sklearn.ensemble import RandomForestClassifier as RF\n",
        "classifier = RF(n_estimators=10, criterion='entropy', random_state=0)\n",
        "classifier.fit(XTrain,yTrain)\n",
        "yPred = classifier.predict(XTest)\n",
        "msquared = mean_squared_error(yTest,yPred)\n",
        "r = r2_score(yTest,yPred)\n",
        "m_abs_error = mean_absolute_error(yTest,yPred)\n",
        "accuracy = accuracy_score(yTest,yPred)\n",
        "print(\"Random Forest Classifier :\")\n",
        "print(\"Accuracy = \", accuracy)\n",
        "print(\"Mean Squared Error:\",msquared)\n",
        "print(\"R score:\",r)\n",
        "print(\"Mean Absolute Error:\",m_abs_error)"
      ],
      "execution_count": null,
      "outputs": []
    },
    {
      "cell_type": "code",
      "metadata": {
        "id": "posBgzPhJbDo"
      },
      "source": [
        "from sklearn.svm import SVC\n",
        "classifier = SVC(kernel='linear',random_state=0)\n",
        "classifier.fit(XTrain,yTrain)\n",
        "yPred = classifier.predict(XTest)\n",
        "msquared = mean_squared_error(yTest,yPred)\n",
        "r = r2_score(yTest,yPred)\n",
        "m_abs_error = mean_absolute_error(yTest,yPred)\n",
        "accuracy = accuracy_score(yTest,yPred)\n",
        "print(\"Support Vector Machine :\")\n",
        "print(\"Accuracy = \", accuracy)\n",
        "print(\"Mean Squared Error:\",msquared)\n",
        "print(\"R score:\",r)\n",
        "print(\"Mean Absolute Error:\",m_abs_error)"
      ],
      "execution_count": null,
      "outputs": []
    },
    {
      "cell_type": "code",
      "metadata": {
        "id": "0dG5rd9yKIeh"
      },
      "source": [
        ""
      ],
      "execution_count": null,
      "outputs": []
    }
  ]
}